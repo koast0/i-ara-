{
 "cells": [
  {
   "cell_type": "code",
   "execution_count": 10,
   "metadata": {
    "collapsed": false
   },
   "outputs": [],
   "source": [
    "import numpy as np\n",
    "from sklearn.neighbors import KNeighborsClassifier\n",
    "from sklearn.cross_validation import cross_val_score\n",
    "from sklearn.ensemble import *\n",
    "from sklearn.svm import *\n",
    "from sklearn.tree import *\n",
    "from sklearn.multiclass import *\n",
    "from sklearn.dummy import *\n",
    "import matplotlib.pyplot as plt\n",
    "%matplotlib inline"
   ]
  },
  {
   "cell_type": "code",
   "execution_count": 11,
   "metadata": {
    "collapsed": false
   },
   "outputs": [],
   "source": [
    "train_data = np.load('train_data.npz')\n",
    "validation_data = np.load('validation_data.npz')\n",
    "test_data = np.load('test_data_public.npz')"
   ]
  },
  {
   "cell_type": "code",
   "execution_count": 12,
   "metadata": {
    "collapsed": false
   },
   "outputs": [],
   "source": [
    "def test_classifier(cl, train_x, train_y):\n",
    "    print ('Train accuracy: ', cl.score(train_x, train_y))\n",
    "    print ('Cross-validation accuracy: ', cross_val_score(cl, train_x, train_y, cv=10).mean())"
   ]
  },
  {
   "cell_type": "code",
   "execution_count": 13,
   "metadata": {
    "collapsed": false
   },
   "outputs": [],
   "source": [
    "train_x = train_data['X'][1950:].copy()\n",
    "train_y = train_data['y'][1950:].copy()\n",
    "validation = validation_data['X'].copy()\n",
    "test = test_data['X'].copy()"
   ]
  },
  {
   "cell_type": "code",
   "execution_count": 14,
   "metadata": {
    "collapsed": false
   },
   "outputs": [],
   "source": [
    "const = 0\n",
    "def binarize(x):\n",
    "    x[x > const] = 255\n",
    "    x[x<= const] = 0\n",
    "    return x\n",
    "\n",
    "train_x = binarize(train_x)\n",
    "validation = binarize(validation) # not forgetting about preprocessing validation data\n",
    "test = binarize(test)"
   ]
  },
  {
   "cell_type": "code",
   "execution_count": 15,
   "metadata": {
    "collapsed": false
   },
   "outputs": [],
   "source": [
    "limit = 4\n",
    "def num(x, y):\n",
    "    return 28*x+y;\n",
    "\n",
    "def dfs(number,d, x):\n",
    "    d.add(number)\n",
    "    indexes = (-28, -1, 1, 28);\n",
    "    count = 0\n",
    "    for j in indexes:\n",
    "        if (number+j>=0 and number+j<(28*28)):\n",
    "            if (not(number+j in d) and x[number+j]==255):\n",
    "                count += dfs(number+j, d, x)\n",
    "    return (count+1)\n",
    "\n",
    "def coloring(number, s, x):\n",
    "    s.add(number)\n",
    "    indexes = (-28, -1, 1, 28);\n",
    "    count = 0\n",
    "    for j in indexes:\n",
    "        if (number+j>=0 and number+j<(28*28)):\n",
    "            if (not(number+j in s) and x[number+j]==255):\n",
    "                count += coloring(number+j, s, x)\n",
    "    return (count+1)\n",
    "def work_on(x , lim):\n",
    "    comp = 0;\n",
    "    d = set()\n",
    "    mark = 0\n",
    "    s =set()\n",
    "    for i in range(0,28):\n",
    "        if (mark == 1): break\n",
    "        for j in range(0,28):\n",
    "            if (not(num(i,j) in d) and x[num(i,j)]==255):\n",
    "                d.add(num(i,j))\n",
    "                t = dfs(num(i,j), d, x)\n",
    "                #print(t)\n",
    "                if (t >lim):\n",
    "                    coloring(num(i, j), s, x)\n",
    "                    mark = 1;\n",
    "                    \n",
    "    for i in range(0,28*28):\n",
    "        if not(i in s):\n",
    "            x[i] = 0\n",
    "        #print(i, x[i])\n",
    "    \n",
    "                \n",
    "def best_comp(x, lim):\n",
    "    for i in range(0, len(x)):\n",
    "        work_on(x[i], lim)\n",
    "#work_on(train_x[60])\n"
   ]
  },
  {
   "cell_type": "code",
   "execution_count": 16,
   "metadata": {
    "collapsed": false
   },
   "outputs": [],
   "source": [
    "limit = 4\n",
    "def make_rm(x):\n",
    "    to_rem = set()\n",
    "    neibours = [-29, -28, -27, -1, 1, 27, 28, 29]\n",
    "    for i in range(0, 28**2):\n",
    "        n_num = 0;\n",
    "        for j in neibours:\n",
    "            if (i+j<28*28 and i+j >=0):\n",
    "                if x[i+j] == 255:\n",
    "                    n_num+=1\n",
    "        if n_num < limit:\n",
    "            to_rem.add(i)\n",
    "    for i in to_rem:\n",
    "        x[i] = 0\n",
    "def remove_otr(x):\n",
    "    for i in range(0, len(x)):\n",
    "        make_rm(x[i])\n"
   ]
  },
  {
   "cell_type": "code",
   "execution_count": 17,
   "metadata": {
    "collapsed": false
   },
   "outputs": [],
   "source": [
    "best_comp(train_x, 40)\n",
    "best_comp(validation, 40)\n",
    "best_comp(test, 40)\n",
    "remove_otr(train_x)\n",
    "remove_otr(validation) \n",
    "remove_otr(test) \n",
    "remove_otr(train_x)\n",
    "remove_otr(validation) \n",
    "remove_otr(test) \n",
    "best_comp(train_x, 40)\n",
    "best_comp(validation, 40)\n",
    "best_comp(test, 40)"
   ]
  },
  {
   "cell_type": "code",
   "execution_count": 18,
   "metadata": {
    "collapsed": false
   },
   "outputs": [],
   "source": [
    "np.save('train950+.npm', train_x)\n",
    "np.save('validation.npm', validation)\n",
    "np.save('test.npm', test)"
   ]
  },
  {
   "cell_type": "code",
   "execution_count": 19,
   "metadata": {
    "collapsed": false
   },
   "outputs": [
    {
     "name": "stdout",
     "output_type": "stream",
     "text": [
      "Train accuracy:  1.0\n",
      "Cross-validation accuracy:  0.876315789474\n"
     ]
    }
   ],
   "source": [
    "cl =AdaBoostClassifier(\n",
    "DecisionTreeClassifier(max_depth=8), n_estimators=800, learning_rate=1.5, algorithm=\"SAMME.R\")\n",
    "cl.fit(train_x, train_y)\n",
    "test_classifier(cl, train_x, train_y)"
   ]
  },
  {
   "cell_type": "code",
   "execution_count": 20,
   "metadata": {
    "collapsed": false
   },
   "outputs": [],
   "source": [
    "fout = open('answer.csv', 'w')\n",
    "fout.write('id,answer\\n')\n",
    "data = []\n",
    "i = 0\n",
    "for y in cl.predict(test):\n",
    "    fout.write('%d,%d\\n' % (i, y))\n",
    "    data.append(y)\n",
    "    i += 1\n",
    "\n",
    "fout.close()\n",
    " "
   ]
  }
 ],
 "metadata": {
  "kernelspec": {
   "display_name": "Python 3",
   "language": "python",
   "name": "python3"
  },
  "language_info": {
   "codemirror_mode": {
    "name": "ipython",
    "version": 3
   },
   "file_extension": ".py",
   "mimetype": "text/x-python",
   "name": "python",
   "nbconvert_exporter": "python",
   "pygments_lexer": "ipython3",
   "version": "3.4.3"
  }
 },
 "nbformat": 4,
 "nbformat_minor": 0
}
